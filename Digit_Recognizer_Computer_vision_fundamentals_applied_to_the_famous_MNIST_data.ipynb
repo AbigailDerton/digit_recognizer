{
  "nbformat": 4,
  "nbformat_minor": 0,
  "metadata": {
    "colab": {
      "provenance": [],
      "authorship_tag": "ABX9TyMpG9belWMEUIMognjOx/j6",
      "include_colab_link": true
    },
    "kernelspec": {
      "name": "python3",
      "display_name": "Python 3"
    },
    "language_info": {
      "name": "python"
    }
  },
  "cells": [
    {
      "cell_type": "markdown",
      "metadata": {
        "id": "view-in-github",
        "colab_type": "text"
      },
      "source": [
        "<a href=\"https://colab.research.google.com/github/AbigailDerton/digit_recognizer/blob/main/Digit_Recognizer_Computer_vision_fundamentals_applied_to_the_famous_MNIST_data.ipynb\" target=\"_parent\"><img src=\"https://colab.research.google.com/assets/colab-badge.svg\" alt=\"Open In Colab\"/></a>"
      ]
    },
    {
      "cell_type": "markdown",
      "source": [
        "# Digit Recognizer - Computer vision fundamentals applied to the famous MNIST data\n",
        "\n",
        "Author: Abigail Derton ([LinkedIn](https://www.linkedin.com/in/abigail-derton/), [GitHub](https://github.com/AbigailDerton))\n",
        "\n",
        "This notebook is my submission to the [Digit Recognizer](https://www.kaggle.com/competitions/digit-recognizer) competition on Kaggle. Using computer vision and machine learning, I compare the ability of machine learning and deep learning approaches to categorize handwritten digits.\n",
        "\n",
        "The workflow is organized as follows:\n",
        "\n",
        "1. Import required libraries and load the data\n",
        "\n",
        "2. Explore and visualize image data\n",
        "\n",
        "3. Train baseline models\n",
        "\n",
        "4. Define a data proprocessing pipeline\n",
        "\n",
        "5. Train and tune machine learning and deep learning models to categorize images\n",
        "\n",
        "6. Evaluate model performance on unseen test data\n"
      ],
      "metadata": {
        "id": "EcrCKWPrHQXM"
      }
    },
    {
      "cell_type": "markdown",
      "source": [
        "## 1. Import required libraries and load the data"
      ],
      "metadata": {
        "id": "ChO11ayZHS5_"
      }
    },
    {
      "cell_type": "code",
      "execution_count": null,
      "metadata": {
        "id": "xNIFoVmyC_mp"
      },
      "outputs": [],
      "source": [
        "import pandas as pd # For loading csv files and manipulating dataframes\n",
        "import numpy as np  # For numpy arrays (needed to plot image data)\n",
        "import matplotlib.pyplot as plt  # For plotting\n",
        "import random # needed to randomly select from a list\n",
        "\n",
        "from sklearn.model_selection import cross_val_score\n",
        "\n",
        "from sklearn.svm import SVC\n",
        "from sklearn.linear_model import SGDClassifier\n",
        "from sklearn.neighbors import KNeighborsClassifier"
      ]
    },
    {
      "cell_type": "code",
      "source": [
        "# Load train and test sets from csv files\n",
        "train = pd.read_csv(\"train.csv\")\n",
        "X_test = pd.read_csv(\"test.csv\")"
      ],
      "metadata": {
        "id": "kCF7lK5eHXVJ"
      },
      "execution_count": null,
      "outputs": []
    },
    {
      "cell_type": "code",
      "source": [
        "# Split the training data into features and labels\n",
        "X_train = train.drop('label', axis=1)\n",
        "y_train = train[\"label\"]"
      ],
      "metadata": {
        "id": "HFcf4TezHXZV"
      },
      "execution_count": null,
      "outputs": []
    },
    {
      "cell_type": "markdown",
      "source": [
        "## 2. Explore and visualize image data"
      ],
      "metadata": {
        "id": "-0v-aHe1HbsB"
      }
    },
    {
      "cell_type": "code",
      "source": [
        "# View the first few rows of data\n",
        "train.head()"
      ],
      "metadata": {
        "id": "TfWPQwU8HdPk"
      },
      "execution_count": null,
      "outputs": []
    },
    {
      "cell_type": "code",
      "source": [
        "for label in range(10):\n",
        "    print(f\"{label}: {np.round(train[\"label\"].value_counts()[label] / len(train) * 100, decimals=1)} %\")\n",
        "train[\"label\"].value_counts()[2]"
      ],
      "metadata": {
        "id": "Pu5NgV6oHhhq"
      },
      "execution_count": null,
      "outputs": []
    },
    {
      "cell_type": "code",
      "source": [
        "np.round(2.3453, decimals=1)"
      ],
      "metadata": {
        "id": "e0o8ooc4HoXc"
      },
      "execution_count": null,
      "outputs": []
    },
    {
      "cell_type": "code",
      "source": [
        "train.shape"
      ],
      "metadata": {
        "id": "ebY-gj-cHpIq"
      },
      "execution_count": null,
      "outputs": []
    },
    {
      "cell_type": "markdown",
      "source": [
        "Look at some of the digit instances:"
      ],
      "metadata": {
        "id": "r0feesXUHuOQ"
      }
    },
    {
      "cell_type": "code",
      "source": [
        "def plot_digit_grid(X, y, nrows, ncols):\n",
        "\n",
        "    fig, axes = plt.subplots(nrows=nrows, ncols=ncols, figsize=(18, 18))\n",
        "    row_i = [r for r in range(nrows) for _ in range(nrows)]\n",
        "    col_i = [_ for r in range(nrows) for _ in range(nrows)]\n",
        "    for i in range(nrows*ncols):\n",
        "        digit_to_plot = random.choice(range(len(y)))\n",
        "\n",
        "        axes[row_i[i], col_i[i]].imshow((X.iloc[digit_to_plot]).to_numpy().reshape(28,28), cmap=\"binary\")\n",
        "        axes[row_i[i], col_i[i]].axis(\"off\")\n",
        "        axes[row_i[i], col_i[i]].text(x=3, y=20, s=str(y_train[digit_to_plot]), fontsize=44)\n",
        "\n",
        "    fig.suptitle(\"Handwritten Digits\", fontsize=50, weight='bold')\n",
        "    plt.show()"
      ],
      "metadata": {
        "id": "3_X7aUlvHxGH"
      },
      "execution_count": null,
      "outputs": []
    },
    {
      "cell_type": "code",
      "source": [
        "plot_digit_grid(X_train, y_train, 3, 3)"
      ],
      "metadata": {
        "id": "DV4hSgfDHzSQ"
      },
      "execution_count": null,
      "outputs": []
    },
    {
      "cell_type": "markdown",
      "source": [
        "## 3. Train baseline models"
      ],
      "metadata": {
        "id": "c5XZStPMH1iO"
      }
    },
    {
      "cell_type": "markdown",
      "source": [
        "Start by fitting classic machine learning models on the un-processed training data. This will provide metric scores which we can compare more complex models to later on."
      ],
      "metadata": {
        "id": "uaJ_5o2-H2Ew"
      }
    },
    {
      "cell_type": "code",
      "source": [
        "svc = SVC()\n",
        "svc.fit(X_train, y_train)\n"
      ],
      "metadata": {
        "id": "xeTZWad8H5zh"
      },
      "execution_count": null,
      "outputs": []
    }
  ]
}